{
  "cells": [
    {
      "cell_type": "code",
      "execution_count": 17,
      "metadata": {
        "id": "LYvQc2jvcHdG"
      },
      "outputs": [],
      "source": [
        "# Step 1: Install required packages\n",
        "!pip install -q insightface opencv-python-headless onnxruntime\n",
        "!pip install -q matplotlib"
      ]
    },
    {
      "cell_type": "code",
      "execution_count": 18,
      "metadata": {
        "id": "-D0Jf57Vc81D"
      },
      "outputs": [],
      "source": [
        "# Step 2: Import packages\n",
        "import cv2\n",
        "import os\n",
        "import numpy as np\n",
        "import insightface\n",
        "from insightface.app import FaceAnalysis\n",
        "from insightface.data import get_image as ins_get_image\n",
        "from google.colab.patches import cv2_imshow\n",
        "from google.colab import files\n",
        "import shutil"
      ]
    },
    {
      "cell_type": "code",
      "source": [
        "!nvidia-smi"
      ],
      "metadata": {
        "colab": {
          "base_uri": "https://localhost:8080/"
        },
        "id": "gZkHfMA2vBdy",
        "outputId": "de237ac8-e5cb-4c52-9a06-d94d00f941d8"
      },
      "execution_count": 21,
      "outputs": [
        {
          "output_type": "stream",
          "name": "stdout",
          "text": [
            "Sun May 25 00:18:10 2025       \n",
            "+-----------------------------------------------------------------------------------------+\n",
            "| NVIDIA-SMI 550.54.15              Driver Version: 550.54.15      CUDA Version: 12.4     |\n",
            "|-----------------------------------------+------------------------+----------------------+\n",
            "| GPU  Name                 Persistence-M | Bus-Id          Disp.A | Volatile Uncorr. ECC |\n",
            "| Fan  Temp   Perf          Pwr:Usage/Cap |           Memory-Usage | GPU-Util  Compute M. |\n",
            "|                                         |                        |               MIG M. |\n",
            "|=========================================+========================+======================|\n",
            "|   0  Tesla T4                       Off |   00000000:00:04.0 Off |                    0 |\n",
            "| N/A   43C    P8              9W /   70W |       0MiB /  15360MiB |      0%      Default |\n",
            "|                                         |                        |                  N/A |\n",
            "+-----------------------------------------+------------------------+----------------------+\n",
            "                                                                                         \n",
            "+-----------------------------------------------------------------------------------------+\n",
            "| Processes:                                                                              |\n",
            "|  GPU   GI   CI        PID   Type   Process name                              GPU Memory |\n",
            "|        ID   ID                                                               Usage      |\n",
            "|=========================================================================================|\n",
            "|  No running processes found                                                             |\n",
            "+-----------------------------------------------------------------------------------------+\n"
          ]
        }
      ]
    },
    {
      "cell_type": "code",
      "execution_count": 24,
      "metadata": {
        "id": "p-_fwPdXdBJ4",
        "colab": {
          "base_uri": "https://localhost:8080/"
        },
        "outputId": "92d7372a-3aa1-44a3-ae7a-2d7e9bf9d3dd"
      },
      "outputs": [
        {
          "output_type": "stream",
          "name": "stdout",
          "text": [
            "Applied providers: ['CPUExecutionProvider'], with options: {'CPUExecutionProvider': {}}\n",
            "find model: /root/.insightface/models/buffalo_l/1k3d68.onnx landmark_3d_68 ['None', 3, 192, 192] 0.0 1.0\n",
            "Applied providers: ['CPUExecutionProvider'], with options: {'CPUExecutionProvider': {}}\n",
            "find model: /root/.insightface/models/buffalo_l/2d106det.onnx landmark_2d_106 ['None', 3, 192, 192] 0.0 1.0\n",
            "Applied providers: ['CPUExecutionProvider'], with options: {'CPUExecutionProvider': {}}\n",
            "find model: /root/.insightface/models/buffalo_l/det_10g.onnx detection [1, 3, '?', '?'] 127.5 128.0\n",
            "Applied providers: ['CPUExecutionProvider'], with options: {'CPUExecutionProvider': {}}\n",
            "find model: /root/.insightface/models/buffalo_l/genderage.onnx genderage ['None', 3, 96, 96] 0.0 1.0\n",
            "Applied providers: ['CPUExecutionProvider'], with options: {'CPUExecutionProvider': {}}\n",
            "find model: /root/.insightface/models/buffalo_l/w600k_r50.onnx recognition ['None', 3, 112, 112] 127.5 127.5\n",
            "set det-size: (640, 640)\n",
            "✅ Loaded 17 known faces.\n"
          ]
        }
      ],
      "source": [
        "# Step 3: Prepare directories\n",
        "known_faces_path = '/content/drive/MyDrive/wanted list/annotation'\n",
        "output_path = 'output'\n",
        "os.makedirs(known_faces_path, exist_ok=True)\n",
        "os.makedirs(output_path, exist_ok=True)\n",
        "\n",
        "# Step 4: Load InsightFace face analyzer (retinaface + ArcFace)\n",
        "face_app = FaceAnalysis(name='buffalo_l', providers=['CUDAExecutionProvider'])\n",
        "face_app.prepare(ctx_id=0)\n",
        "\n",
        "# Step 5: Load known faces\n",
        "known_embeddings = []\n",
        "known_names = []\n",
        "\n",
        "def load_known_faces():\n",
        "    for file in os.listdir(known_faces_path):\n",
        "        if file.lower().endswith(('.jpg', '.png', '.jpeg')):\n",
        "            path = os.path.join(known_faces_path, file)\n",
        "            img = cv2.imread(path)\n",
        "            faces = face_app.get(img)\n",
        "            if faces:\n",
        "                known_embeddings.append(faces[0].embedding)\n",
        "                name = os.path.splitext(file)[0]\n",
        "                known_names.append(name)\n",
        "            else:\n",
        "                print(f\"[!] No face detected in: {file}\")\n",
        "\n",
        "load_known_faces()\n",
        "print(f\"✅ Loaded {len(known_names)} known faces.\")\n",
        "\n",
        "# Step 6: Face recognition helper\n",
        "def recognize(face, threshold=220):\n",
        "    \"\"\"\n",
        "    Compare detected face against known faces using cosine similarity.\n",
        "    Only return a name if similarity is above a trusted threshold.\n",
        "    \"\"\"\n",
        "    if not known_embeddings:\n",
        "        return \"Unknown\", 0.0\n",
        "\n",
        "    sims = np.dot(known_embeddings, face.embedding)\n",
        "    best_idx = np.argmax(sims)\n",
        "    best_score = sims[best_idx]\n",
        "\n",
        "    if best_score >= threshold:\n",
        "        return known_names[best_idx], best_score\n",
        "    return \"Unknown\", best_score\n",
        "\n",
        "# Step 7: Process video (webcam or uploaded)\n",
        "def process_video(video_path=None):\n",
        "    if video_path:\n",
        "        cap = cv2.VideoCapture(video_path)\n",
        "    else:\n",
        "        cap = cv2.VideoCapture(0)  # Webcam\n",
        "\n",
        "    fourcc = cv2.VideoWriter_fourcc(*'XVID')\n",
        "    out_path = os.path.join(output_path, 'annotated_output.avi')\n",
        "    out = None\n",
        "\n",
        "    while True:\n",
        "        ret, frame = cap.read()\n",
        "        if not ret:\n",
        "            break\n",
        "\n",
        "        faces = face_app.get(frame)\n",
        "\n",
        "        for face in faces:\n",
        "            # Get recognition result\n",
        "            name, best_score = recognize(face, threshold=220)\n",
        "\n",
        "            box = face.bbox.astype(int)\n",
        "            if name != \"Unknown\":\n",
        "                # Draw green box and name for high-confidence matches\n",
        "                label = f\"{name} ({best_score:.2f})\"\n",
        "                color = (0, 255, 0)  # Green for known faces\n",
        "            else:\n",
        "                # Draw red box and \"Unknown\" for low-confidence matches\n",
        "                label = f\"Unknown ({best_score:.2f})\"\n",
        "                color = (0, 0, 255)  # Red for unknown faces\n",
        "\n",
        "            cv2.rectangle(frame, (box[0], box[1]), (box[2], box[3]), color, 2)\n",
        "            cv2.putText(frame, label, (box[0], box[1] - 10),\n",
        "                        cv2.FONT_HERSHEY_SIMPLEX, 0.8, (255, 255, 255), 2)\n",
        "\n",
        "        if out is None:\n",
        "            h, w = frame.shape[:2]\n",
        "            out = cv2.VideoWriter(out_path, fourcc, 20.0, (w, h))\n",
        "\n",
        "        out.write(frame)\n",
        "        cv2_imshow(frame)  # Show frame in Colab\n",
        "\n",
        "        if cv2.waitKey(1) & 0xFF == ord('q'):\n",
        "            break\n",
        "\n",
        "    cap.release()\n",
        "    out.release()\n",
        "    cv2.destroyAllWindows()\n",
        "    print(\"✅ Done processing. Saved to:\", out_path)"
      ]
    },
    {
      "cell_type": "code",
      "execution_count": null,
      "metadata": {
        "id": "SYX5phl0dTQW"
      },
      "outputs": [],
      "source": [
        "# Step 8: Upload and run\n",
        "print(\"📤 Please upload a video file or use the webcam.\")\n",
        "\n",
        "# Uncomment to upload a video:\n",
        "# uploaded = files.upload()\n",
        "# video_path = list(uploaded.keys())[0]\n",
        "process_video(\"/content/videoooooooooo.mp4\")\n",
        "\n",
        "# Or run from webcam (if running locally):\n",
        "# process_video()"
      ]
    }
  ],
  "metadata": {
    "accelerator": "GPU",
    "colab": {
      "gpuType": "T4",
      "provenance": []
    },
    "kernelspec": {
      "display_name": "Python 3",
      "name": "python3"
    },
    "language_info": {
      "name": "python"
    }
  },
  "nbformat": 4,
  "nbformat_minor": 0
}